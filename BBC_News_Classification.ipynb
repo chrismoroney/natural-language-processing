{
  "nbformat": 4,
  "nbformat_minor": 0,
  "metadata": {
    "colab": {
      "provenance": [],
      "authorship_tag": "ABX9TyMFGzrryYw9KEYgbLSPFo9B",
      "include_colab_link": true
    },
    "kernelspec": {
      "name": "python3",
      "display_name": "Python 3"
    },
    "language_info": {
      "name": "python"
    }
  },
  "cells": [
    {
      "cell_type": "markdown",
      "metadata": {
        "id": "view-in-github",
        "colab_type": "text"
      },
      "source": [
        "<a href=\"https://colab.research.google.com/github/chrismoroney/natural-language-processing/blob/main/BBC_News_Classification.ipynb\" target=\"_parent\"><img src=\"https://colab.research.google.com/assets/colab-badge.svg\" alt=\"Open In Colab\"/></a>"
      ]
    },
    {
      "cell_type": "code",
      "execution_count": 4,
      "metadata": {
        "colab": {
          "base_uri": "https://localhost:8080/"
        },
        "id": "mq1llwFf3kwV",
        "outputId": "35769b4c-aa0e-4691-99ee-4aaab9b53068"
      },
      "outputs": [
        {
          "output_type": "stream",
          "name": "stdout",
          "text": [
            "/usr/local/lib/python3.10/dist-packages/gdown/cli.py:121: FutureWarning: Option `--id` was deprecated in version 4.3.1 and will be removed in 5.0. You don't need to pass it anymore to use a file ID.\n",
            "  warnings.warn(\n",
            "Downloading...\n",
            "From: https://drive.google.com/uc?id=14oUWdE8AL6ahSDMgGkR6KkMeW2IKjDre\n",
            "To: /content/learn-ai-bbc.zip\n",
            "100% 1.94M/1.94M [00:00<00:00, 39.8MB/s]\n"
          ]
        }
      ],
      "source": [
        "!gdown --id 14oUWdE8AL6ahSDMgGkR6KkMeW2IKjDre"
      ]
    },
    {
      "cell_type": "code",
      "source": [
        "import os\n",
        "import zipfile\n",
        "import pandas\n",
        "\n",
        "import string\n",
        "import numpy as np\n",
        "\n",
        "import tensorflow as tf\n",
        "from tensorflow.keras.preprocessing.text import Tokenizer\n",
        "from tensorflow.keras.preprocessing.sequence import pad_sequences\n",
        "\n",
        "from sklearn.preprocessing import LabelEncoder\n"
      ],
      "metadata": {
        "id": "9mI4SG3Y6H6J"
      },
      "execution_count": 77,
      "outputs": []
    },
    {
      "cell_type": "code",
      "source": [
        "local_zip = './learn-ai-bbc.zip'\n",
        "zip_file = zipfile.ZipFile(local_zip, 'r')\n",
        "zip_file.extractall()\n",
        "zip_file.close()"
      ],
      "metadata": {
        "id": "_JTv5Drq6yR8"
      },
      "execution_count": 12,
      "outputs": []
    },
    {
      "cell_type": "code",
      "source": [
        "train_tweets = os.path.join('./BBC News Train.csv')\n",
        "test_tweets = os.path.join('./BBC News Test.csv')"
      ],
      "metadata": {
        "id": "TJmxfQwk7FJy"
      },
      "execution_count": 19,
      "outputs": []
    },
    {
      "cell_type": "code",
      "source": [
        "train_df = pandas.read_csv(train_tweets)\n",
        "test_df = pandas.read_csv(test_tweets)\n",
        "print(train_df[:1])\n",
        "print(test_df[:1]) # No Category provided"
      ],
      "metadata": {
        "colab": {
          "base_uri": "https://localhost:8080/"
        },
        "id": "wRRbxdIE7aap",
        "outputId": "2511c387-3869-4ff7-b87c-825592594fb5"
      },
      "execution_count": 20,
      "outputs": [
        {
          "output_type": "stream",
          "name": "stdout",
          "text": [
            "   ArticleId                                               Text  Category\n",
            "0       1833  worldcom ex-boss launches defence lawyers defe...  business\n",
            "   ArticleId                                               Text\n",
            "0       1018  qpr keeper day heads for preston queens park r...\n"
          ]
        }
      ]
    },
    {
      "cell_type": "code",
      "source": [
        "train_headlines = []\n",
        "train_labels = []\n",
        "for i in range(len(train_df.index)):\n",
        "  train_headlines.append(train_df.iloc[i]['Text'])\n",
        "  train_labels.append(train_df.iloc[i]['Category'])\n",
        "\n",
        "train_headlines = np.array(train_headlines)\n",
        "train_labels = np.array(train_labels)\n",
        "\n",
        "print(train_headlines.shape)\n",
        "print(train_labels.shape)"
      ],
      "metadata": {
        "colab": {
          "base_uri": "https://localhost:8080/"
        },
        "id": "YsbDi3Y07jjz",
        "outputId": "03889c84-d9aa-4d1a-d6c9-dab435de27cc"
      },
      "execution_count": 72,
      "outputs": [
        {
          "output_type": "stream",
          "name": "stdout",
          "text": [
            "(1490,)\n",
            "(1490,)\n"
          ]
        }
      ]
    },
    {
      "cell_type": "code",
      "source": [
        "vocab_size = 80000\n",
        "embedding_dim = 12\n",
        "max_length = 200\n",
        "\n",
        "padding_type='post'\n",
        "trunc_type='post'\n",
        "OOV_token = \"<OOV>\""
      ],
      "metadata": {
        "id": "YaU16r-q9xeu"
      },
      "execution_count": 103,
      "outputs": []
    },
    {
      "cell_type": "code",
      "source": [
        "label_encoder = LabelEncoder()\n",
        "label_encoder.fit(train_labels)\n",
        "\n",
        "train_labels_encoded = label_encoder.transform(train_labels)\n",
        "\n",
        "num_classes = len(label_encoder.classes_)\n",
        "train_labels_one_hot = tf.keras.utils.to_categorical(train_labels_encoded, num_classes)"
      ],
      "metadata": {
        "colab": {
          "base_uri": "https://localhost:8080/"
        },
        "id": "fiM98OlyNh82",
        "outputId": "320a2848-8b9c-4111-e4b5-04ea18eebcde"
      },
      "execution_count": 106,
      "outputs": [
        {
          "output_type": "stream",
          "name": "stdout",
          "text": [
            "[[1. 0. 0. 0. 0.]\n",
            " [1. 0. 0. 0. 0.]\n",
            " [1. 0. 0. 0. 0.]\n",
            " [0. 0. 0. 0. 1.]\n",
            " [1. 0. 0. 0. 0.]]\n"
          ]
        }
      ]
    },
    {
      "cell_type": "code",
      "source": [],
      "metadata": {
        "colab": {
          "base_uri": "https://localhost:8080/"
        },
        "id": "UxU7KcSGM4bQ",
        "outputId": "ef51a4fc-dd1b-45b4-9b2c-a80dcf2b5a98"
      },
      "execution_count": 113,
      "outputs": [
        {
          "output_type": "stream",
          "name": "stdout",
          "text": [
            "business: [1, 0, 0, 0, 0]\n",
            "entertainment: [0, 1, 0, 0, 0]\n",
            "politics: [0, 0, 1, 0, 0]\n",
            "sport: [0, 0, 0, 1, 0]\n",
            "tech: [0, 0, 0, 0, 1]\n"
          ]
        }
      ]
    },
    {
      "cell_type": "code",
      "source": [
        "tokenizer = Tokenizer(num_words=vocab_size, oov_token=OOV_token)\n",
        "tokenizer.fit_on_texts(train_headlines)\n",
        "\n",
        "word_index = tokenizer.word_index\n",
        "\n",
        "train_sequences = tokenizer.texts_to_sequences(train_headlines)\n",
        "train_padded = pad_sequences(train_sequences, maxlen = max_length, padding=padding_type, truncating = trunc_type)"
      ],
      "metadata": {
        "id": "t_og1nNQ8L-z"
      },
      "execution_count": 42,
      "outputs": []
    },
    {
      "cell_type": "code",
      "source": [
        "model = tf.keras.Sequential([\n",
        "    tf.keras.layers.Embedding(vocab_size, embedding_dim, input_length=max_length),\n",
        "    tf.keras.layers.GlobalAveragePooling1D(),\n",
        "    tf.keras.layers.Dropout(0.2),\n",
        "    tf.keras.layers.Flatten(),\n",
        "    tf.keras.layers.Dense(5, activation = 'softmax'),\n",
        "])"
      ],
      "metadata": {
        "id": "6nwZzphp9oNF"
      },
      "execution_count": 97,
      "outputs": []
    },
    {
      "cell_type": "code",
      "source": [
        "model.compile(loss='categorical_crossentropy', optimizer='adam', metrics=['accuracy'])\n",
        "model.summary()"
      ],
      "metadata": {
        "colab": {
          "base_uri": "https://localhost:8080/"
        },
        "id": "otqMOYq3-dZF",
        "outputId": "3a2fb73a-2fc4-4a94-a43c-18662e2e891a"
      },
      "execution_count": 98,
      "outputs": [
        {
          "output_type": "stream",
          "name": "stdout",
          "text": [
            "Model: \"sequential_9\"\n",
            "_________________________________________________________________\n",
            " Layer (type)                Output Shape              Param #   \n",
            "=================================================================\n",
            " embedding_10 (Embedding)    (None, 200, 12)           960000    \n",
            "                                                                 \n",
            " global_average_pooling1d_1   (None, 12)               0         \n",
            " (GlobalAveragePooling1D)                                        \n",
            "                                                                 \n",
            " dropout_3 (Dropout)         (None, 12)                0         \n",
            "                                                                 \n",
            " flatten_9 (Flatten)         (None, 12)                0         \n",
            "                                                                 \n",
            " dense_15 (Dense)            (None, 5)                 65        \n",
            "                                                                 \n",
            "=================================================================\n",
            "Total params: 960,065\n",
            "Trainable params: 960,065\n",
            "Non-trainable params: 0\n",
            "_________________________________________________________________\n"
          ]
        }
      ]
    },
    {
      "cell_type": "code",
      "source": [
        "num_epochs = 20\n",
        "model.fit(train_padded, train_labels_one_hot, epochs=num_epochs)"
      ],
      "metadata": {
        "colab": {
          "base_uri": "https://localhost:8080/"
        },
        "id": "wj7k6J_R-u_U",
        "outputId": "328fdc8b-f4e0-49e4-d06e-808caccd1467"
      },
      "execution_count": 99,
      "outputs": [
        {
          "output_type": "stream",
          "name": "stdout",
          "text": [
            "Epoch 1/20\n",
            "47/47 [==============================] - 2s 19ms/step - loss: 1.6022 - accuracy: 0.3631\n",
            "Epoch 2/20\n",
            "47/47 [==============================] - 1s 25ms/step - loss: 1.5786 - accuracy: 0.4638\n",
            "Epoch 3/20\n",
            "47/47 [==============================] - 1s 24ms/step - loss: 1.5467 - accuracy: 0.5134\n",
            "Epoch 4/20\n",
            "47/47 [==============================] - 1s 28ms/step - loss: 1.5041 - accuracy: 0.6081\n",
            "Epoch 5/20\n",
            "47/47 [==============================] - 1s 19ms/step - loss: 1.4526 - accuracy: 0.7094\n",
            "Epoch 6/20\n",
            "47/47 [==============================] - 1s 18ms/step - loss: 1.3909 - accuracy: 0.7591\n",
            "Epoch 7/20\n",
            "47/47 [==============================] - 1s 16ms/step - loss: 1.3225 - accuracy: 0.8215\n",
            "Epoch 8/20\n",
            "47/47 [==============================] - 1s 17ms/step - loss: 1.2502 - accuracy: 0.8752\n",
            "Epoch 9/20\n",
            "47/47 [==============================] - 1s 20ms/step - loss: 1.1724 - accuracy: 0.8919\n",
            "Epoch 10/20\n",
            "47/47 [==============================] - 1s 20ms/step - loss: 1.0922 - accuracy: 0.9302\n",
            "Epoch 11/20\n",
            "47/47 [==============================] - 1s 16ms/step - loss: 1.0111 - accuracy: 0.9483\n",
            "Epoch 12/20\n",
            "47/47 [==============================] - 1s 20ms/step - loss: 0.9374 - accuracy: 0.9557\n",
            "Epoch 13/20\n",
            "47/47 [==============================] - 1s 20ms/step - loss: 0.8688 - accuracy: 0.9631\n",
            "Epoch 14/20\n",
            "47/47 [==============================] - 1s 19ms/step - loss: 0.7986 - accuracy: 0.9705\n",
            "Epoch 15/20\n",
            "47/47 [==============================] - 1s 19ms/step - loss: 0.7323 - accuracy: 0.9725\n",
            "Epoch 16/20\n",
            "47/47 [==============================] - 1s 29ms/step - loss: 0.6780 - accuracy: 0.9765\n",
            "Epoch 17/20\n",
            "47/47 [==============================] - 1s 30ms/step - loss: 0.6204 - accuracy: 0.9832\n",
            "Epoch 18/20\n",
            "47/47 [==============================] - 1s 19ms/step - loss: 0.5672 - accuracy: 0.9846\n",
            "Epoch 19/20\n",
            "47/47 [==============================] - 1s 17ms/step - loss: 0.5220 - accuracy: 0.9832\n",
            "Epoch 20/20\n",
            "47/47 [==============================] - 1s 16ms/step - loss: 0.4842 - accuracy: 0.9872\n"
          ]
        },
        {
          "output_type": "execute_result",
          "data": {
            "text/plain": [
              "<keras.callbacks.History at 0x79a99f849b40>"
            ]
          },
          "metadata": {},
          "execution_count": 99
        }
      ]
    },
    {
      "cell_type": "code",
      "source": [
        "sentence = [\n",
        "\n",
        "\"sony wares win innovation award sony has taken the prize for top innovator at the annual awards of pc pro magazine.  it won the award for taking risks with products and for its  brave  commitment to good design. conferring the award  pc pro s staff picked out sony s pcg-x505/p vaio laptop as a  stunning piece of engineering . the electronics giant beat off strong competition from toshiba and chip makers amd and intel to take the gong.  paul trotter  news and features editor of pc pro  said several sony products helped it to take the innovation award.  he said sony s clie peg ux50 media player with its swivel screen and qwerty keyboard  broke the design rules yet again . other sony products that helped included the vaio w1 desktop computer and the ra-104 media server. mr trotter said sony s combining of computer  screen and keyboard in the w1 was likely to be widely copied in future home pcs. the company has also become one of the first to use organic leds in its products.  while not always inventing new technology itself  sony was never afraid to innovate around various formats   said mr trotter.  other awards decided by pc pro s staff and contributors included one for canon s eos 300d digital camera in the most wanted hardware category.  microsoft s media player 10 took the award for most wanted software. this year was the 10th anniversary of the pc pro awards  which splits its prizes into two sections. the first are chosen by the magazine s writers and consultants  the second are voted for by readers. mr trotter said more than 13 000 people voted for the reliability and service awards  twice as many as in 2003. net-based memory and video card shop crucial shared the award for online vendor of the year with novatech.\"\n",
        "\n",
        "]\n",
        "sequence = tokenizer.texts_to_sequences(sentence)\n",
        "print(sequence)"
      ],
      "metadata": {
        "colab": {
          "base_uri": "https://localhost:8080/"
        },
        "id": "znF_aKHp-4Dz",
        "outputId": "a6b4a441-05e5-48bd-d464-670110285bab"
      },
      "execution_count": 154,
      "outputs": [
        {
          "output_type": "stream",
          "name": "stdout",
          "text": [
            "[[645, 7945, 136, 2211, 397, 645, 19, 459, 2, 779, 9, 138, 1, 22, 2, 686, 314, 4, 564, 2580, 1063, 12, 144, 2, 397, 9, 354, 2043, 18, 747, 5, 9, 43, 6957, 2264, 3, 128, 1212, 17287, 2, 397, 564, 2580, 8, 1115, 1448, 55, 645, 8, 1, 1, 2041, 1, 2371, 20, 6, 4845, 3250, 4, 2998, 2, 1263, 723, 587, 130, 349, 630, 28, 4881, 5, 1636, 1617, 12545, 5, 2237, 3, 118, 2, 13657, 715, 10310, 189, 5, 1835, 1510, 4, 564, 2580, 14, 533, 645, 747, 788, 12, 3, 118, 2, 2211, 397, 16, 14, 645, 8, 1, 8828, 1, 296, 356, 18, 43, 1, 856, 5, 9061, 3183, 1554, 2, 1212, 735, 425, 367, 71, 645, 747, 11, 788, 831, 2, 1, 1, 1955, 321, 5, 2, 1, 5511, 296, 5146, 31, 10310, 14, 645, 8, 5903, 4, 321, 856, 5, 3183, 7, 2, 1, 15, 295, 3, 17, 907, 9828, 7, 286, 124, 892, 2, 140, 19, 46, 368, 51, 4, 2, 64, 3, 145, 8151, 1, 7, 43, 747, 105, 29, 455, 1, 48, 178, 777, 645, 15, 398, 5813, 3, 24837, 242, 2725, 4346, 14, 31, 10310, 71, 314, 995, 23, 564, 2580, 8, 1115, 5, 6396, 831, 51, 9, 1, 8, 1, 1, 229, 1040, 7, 2, 115, 704, 2452, 1341, 338, 8, 296, 356, 173, 263, 2, 397, 9, 115, 704, 236, 35, 42, 15, 2, 5129, 2790, 4, 2, 564, 2580, 314, 36, 7146, 43, 2784, 74, 67, 8489, 2, 64, 26, 1670, 23, 2, 1063, 8, 2240, 5, 10884, 2, 149, 26, 1565, 9, 23, 2503, 31, 10310, 14, 41, 60, 767, 102, 49, 1565, 9, 2, 14607, 5, 196, 314, 1620, 20, 99, 20, 7, 245, 203, 237, 2153, 5, 277, 834, 3340, 1749, 2068, 2, 397, 9, 299, 12665, 4, 2, 42, 18, 1]]\n"
          ]
        }
      ]
    },
    {
      "cell_type": "code",
      "source": [
        "sequences = tokenizer.texts_to_sequences(sentence)\n",
        "padded = pad_sequences(sequences, maxlen=max_length, padding=padding_type, truncating=trunc_type)\n",
        "print(model.predict(padded))\n",
        "vals = model.predict(padded)"
      ],
      "metadata": {
        "colab": {
          "base_uri": "https://localhost:8080/"
        },
        "id": "Cln7oCn6Qn_i",
        "outputId": "8e5089b8-fce0-47a2-fd67-90bf41a3297f"
      },
      "execution_count": 155,
      "outputs": [
        {
          "output_type": "stream",
          "name": "stdout",
          "text": [
            "1/1 [==============================] - 0s 26ms/step\n",
            "[[0.19692634 0.18344161 0.08454067 0.06698115 0.46811026]]\n",
            "1/1 [==============================] - 0s 21ms/step\n"
          ]
        }
      ]
    },
    {
      "cell_type": "code",
      "source": [
        "print(vals)\n",
        "print()\n",
        "print(\"index:\")\n",
        "for i, class_name in enumerate(label_encoder.classes_):\n",
        "    one_hot = [0] * num_classes\n",
        "    one_hot[i] = 1\n",
        "    print(f\"{class_name}: {one_hot}\")\n",
        "\n",
        "print()\n",
        "largest_val_idx = np.argmax(vals)\n",
        "print(\"Answer:\")\n",
        "if largest_val_idx == 0:\n",
        "  print(\"The headline classifies as: business\")\n",
        "elif largest_val_idx == 1:\n",
        "  print(\"The headline classifies as: entertainment\")\n",
        "elif largest_val_idx == 2:\n",
        "  print(\"The headline classifies as: politics\")\n",
        "elif largest_val_idx == 3:\n",
        "  print(\"The headline classifies as: sport\")\n",
        "elif largest_val_idx == 4:\n",
        "  print(\"The headline classifies as: tech\")"
      ],
      "metadata": {
        "colab": {
          "base_uri": "https://localhost:8080/"
        },
        "id": "Fzoq3BZ6Q5nr",
        "outputId": "01694d3d-5875-4e0e-c2f0-6d113e1676c6"
      },
      "execution_count": 156,
      "outputs": [
        {
          "output_type": "stream",
          "name": "stdout",
          "text": [
            "[[0.19692634 0.18344161 0.08454067 0.06698115 0.46811026]]\n",
            "\n",
            "index:\n",
            "business: [1, 0, 0, 0, 0]\n",
            "entertainment: [0, 1, 0, 0, 0]\n",
            "politics: [0, 0, 1, 0, 0]\n",
            "sport: [0, 0, 0, 1, 0]\n",
            "tech: [0, 0, 0, 0, 1]\n",
            "\n",
            "Answer:\n",
            "The headline classifies as: tech\n"
          ]
        }
      ]
    },
    {
      "cell_type": "code",
      "source": [],
      "metadata": {
        "id": "N2Ya_BbzRk11"
      },
      "execution_count": null,
      "outputs": []
    }
  ]
}