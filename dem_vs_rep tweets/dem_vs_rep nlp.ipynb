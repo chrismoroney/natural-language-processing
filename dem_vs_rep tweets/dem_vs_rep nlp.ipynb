{
  "nbformat": 4,
  "nbformat_minor": 2,
  "metadata": {
    "orig_nbformat": 4,
    "language_info": {
      "name": "python",
      "version": "3.8.8",
      "mimetype": "text/x-python",
      "codemirror_mode": {
        "name": "ipython",
        "version": 3
      },
      "pygments_lexer": "ipython3",
      "nbconvert_exporter": "python",
      "file_extension": ".py"
    },
    "kernelspec": {
      "name": "python3",
      "display_name": "Python 3.8.8 64-bit"
    },
    "interpreter": {
      "hash": "c72a629dba5ae9edebcad565c17c3988d814021371aabb3db62cb04d2b10dbfe"
    },
    "colab": {
      "name": "nlp.ipynb",
      "provenance": []
    }
  },
  "cells": [
    {
      "cell_type": "code",
      "execution_count": 1,
      "source": [
        "!gdown --id 10Yv6xUd1ufDilPcLdhR8L-zQZX5yNwSZ"
      ],
      "outputs": [
        {
          "output_type": "stream",
          "name": "stderr",
          "text": [
            "Downloading...\n",
            "From: https://drive.google.com/uc?id=10Yv6xUd1ufDilPcLdhR8L-zQZX5yNwSZ\n",
            "To: d:\\Github\\natural-language-processing\\dem-vs-rep.zip\n",
            "\n",
            "0.00B [00:00, ?B/s]\n",
            "524kB [00:00, 5.06MB/s]\n",
            "1.57MB [00:00, 6.58MB/s]\n",
            "3.15MB [00:00, 8.01MB/s]\n",
            "4.19MB [00:00, 8.28MB/s]\n",
            "5.24MB [00:00, 8.31MB/s]\n",
            "6.29MB [00:00, 8.29MB/s]\n",
            "7.34MB [00:00, 8.86MB/s]\n",
            "8.39MB [00:01, 7.74MB/s]\n",
            "9.29MB [00:01, 7.88MB/s]\n",
            "9.29MB [00:01, 7.94MB/s]\n"
          ]
        }
      ],
      "metadata": {
        "colab": {
          "base_uri": "https://localhost:8080/"
        },
        "id": "2mjBoJAJFIzP",
        "outputId": "cf418c1f-86f6-4eaf-9cae-c675872f9da5"
      }
    },
    {
      "cell_type": "code",
      "execution_count": 2,
      "source": [
        "import os\r\n",
        "import zipfile\r\n",
        "\r\n",
        "local_zip = './dem-vs-rep.zip'\r\n",
        "zip_ref = zipfile.ZipFile(local_zip, 'r')\r\n",
        "zip_ref.extractall()\r\n",
        "zip_ref.close()"
      ],
      "outputs": [],
      "metadata": {
        "id": "FGFgDGWhFIzQ"
      }
    },
    {
      "cell_type": "code",
      "execution_count": 3,
      "source": [
        "train_tweets = os.path.join('./dem-vs-rep/train.csv')\r\n",
        "test_tweets = os.path.join('./dem-vs-rep/test.csv')"
      ],
      "outputs": [],
      "metadata": {
        "id": "x27rSbjIFIzS"
      }
    },
    {
      "cell_type": "code",
      "execution_count": 4,
      "source": [
        "import pandas\r\n",
        "train_df = pandas.read_csv(train_tweets)\r\n",
        "test_df = pandas.read_csv(test_tweets)\r\n",
        "print(train_df[:1])\r\n",
        "print(test_df[:1])"
      ],
      "outputs": [
        {
          "output_type": "stream",
          "name": "stdout",
          "text": [
            "      Party         Handle                                              Tweet\n",
            "0  Democrat  RepDarrenSoto  Today, Senate Dems vote to #SaveTheInternet. P...\n",
            "      Party        Handle                                              Tweet\n",
            "0  Democrat  RepAdamSmith  Today the House passed an omnibus spending bil...\n"
          ]
        }
      ],
      "metadata": {
        "colab": {
          "base_uri": "https://localhost:8080/"
        },
        "id": "nDgxi79_FIzT",
        "outputId": "552d1c72-2685-4422-f780-30c81ba3f425"
      }
    },
    {
      "cell_type": "code",
      "execution_count": 5,
      "source": [
        "import string\r\n",
        "\r\n",
        "stopwords = [\"a\", \"about\", \"above\", \"after\", \"again\", \"against\", \"all\", \"am\", \"an\", \"and\", \"any\", \"are\", \"as\", \"at\",\r\n",
        "             \"be\", \"because\", \"been\", \"before\", \"being\", \"below\", \"between\", \"both\", \"but\", \"by\", \"could\", \"did\", \"do\",\r\n",
        "             \"does\", \"doing\", \"down\", \"during\", \"each\", \"few\", \"for\", \"from\", \"further\", \"had\", \"has\", \"have\", \"having\",\r\n",
        "             \"he\", \"hed\", \"hes\", \"her\", \"here\", \"heres\", \"hers\", \"herself\", \"him\", \"himself\", \"his\", \"how\",\r\n",
        "             \"hows\", \"i\", \"id\", \"ill\", \"im\", \"ive\", \"if\", \"in\", \"into\", \"is\", \"it\", \"its\", \"itself\",\r\n",
        "             \"lets\", \"me\", \"more\", \"most\", \"my\", \"myself\", \"nor\", \"of\", \"on\", \"once\", \"only\", \"or\", \"other\", \"ought\",\r\n",
        "             \"our\", \"ours\", \"ourselves\", \"out\", \"over\", \"own\", \"same\", \"she\", \"shed\", \"shell\", \"shes\", \"should\",\r\n",
        "             \"so\", \"some\", \"such\", \"than\", \"that\", \"thats\", \"the\", \"their\", \"theirs\", \"them\", \"themselves\", \"then\",\r\n",
        "             \"there\", \"theres\", \"these\", \"they\", \"theyd\", \"theyll\", \"theyre\", \"theyve\", \"this\", \"those\", \"through\",\r\n",
        "             \"to\", \"too\", \"under\", \"until\", \"up\", \"very\", \"was\", \"we\", \"wed\", \"well\", \"were\", \"weve\", \"were\",\r\n",
        "             \"what\", \"whats\", \"when\", \"whens\", \"where\", \"wheres\", \"which\", \"while\", \"who\", \"whos\", \"whom\", \"why\",\r\n",
        "             \"whys\", \"with\", \"would\", \"you\", \"youd\", \"youll\", \"youre\", \"youve\", \"your\", \"yours\", \"yourself\",\r\n",
        "             \"yourselves\"]\r\n",
        "\r\n",
        "table = str.maketrans('', '', string.punctuation)"
      ],
      "outputs": [],
      "metadata": {
        "id": "EcBmjqHzdRpg"
      }
    },
    {
      "cell_type": "code",
      "execution_count": 6,
      "source": [
        "import numpy as np\r\n",
        "\r\n",
        "train_tweets = []\r\n",
        "train_labels = []\r\n",
        "\r\n",
        "for i in range(len(train_df.index)):\r\n",
        "  pre_tweet = train_df.iloc[i]['Tweet']\r\n",
        "  post_tweet = \"\"\r\n",
        "  for word in pre_tweet.split():\r\n",
        "    if word not in stopwords:\r\n",
        "      post_tweet += word + \" \"\r\n",
        "  train_tweets.append(post_tweet)\r\n",
        "  party = (train_df.iloc[i]['Party'])\r\n",
        "  if party == 'Democrat':\r\n",
        "    train_labels.append(0)\r\n",
        "  else:\r\n",
        "    train_labels.append(1)\r\n",
        "\r\n",
        "test_tweets = []\r\n",
        "test_labels = []\r\n",
        "\r\n",
        "for i in range(len(test_df.index)):\r\n",
        "  pre_tweet = train_df.iloc[i]['Tweet']\r\n",
        "  post_tweet = \"\"\r\n",
        "  for word in pre_tweet.split():\r\n",
        "    if word not in stopwords:\r\n",
        "      post_tweet += word + \" \"\r\n",
        "  test_tweets.append(post_tweet)\r\n",
        "  party = (test_df.iloc[i]['Party'])\r\n",
        "  if party == 'Democrat':\r\n",
        "    test_labels.append(0)\r\n",
        "  else:\r\n",
        "    test_labels.append(1)\r\n",
        "\r\n",
        "train_labels = np.array(train_labels)\r\n",
        "test_labels = np.array(test_labels)"
      ],
      "outputs": [],
      "metadata": {
        "id": "ys0Evl0tFIzT"
      }
    },
    {
      "cell_type": "code",
      "execution_count": 7,
      "source": [
        "print(len(train_tweets))"
      ],
      "outputs": [
        {
          "output_type": "stream",
          "name": "stdout",
          "text": [
            "69107\n"
          ]
        }
      ],
      "metadata": {
        "colab": {
          "base_uri": "https://localhost:8080/"
        },
        "id": "hAa3vfScFIzU",
        "outputId": "ab471663-0d68-4e6c-d714-53449cec2837"
      }
    },
    {
      "cell_type": "code",
      "execution_count": 8,
      "source": [
        "print(train_tweets[:2])\r\n",
        "print(train_labels[:2])\r\n",
        "\r\n",
        "print(test_tweets[:2])\r\n",
        "print(test_labels[:2])"
      ],
      "outputs": [
        {
          "output_type": "stream",
          "name": "stdout",
          "text": [
            "['Today, Senate Dems vote #SaveTheInternet. Proud support similar #NetNeutrality legislation House… https://t.co/n3tggDLU1L ', 'RT @WinterHavenSun: Winter Haven resident / Alta Vista teacher one several recognized @RepDarrenSoto National Teacher Apprecia… ']\n",
            "[0 0]\n",
            "['Today, Senate Dems vote #SaveTheInternet. Proud support similar #NetNeutrality legislation House… https://t.co/n3tggDLU1L ', 'RT @WinterHavenSun: Winter Haven resident / Alta Vista teacher one several recognized @RepDarrenSoto National Teacher Apprecia… ']\n",
            "[0 0]\n"
          ]
        }
      ],
      "metadata": {
        "colab": {
          "base_uri": "https://localhost:8080/"
        },
        "id": "wKgnXe0ZFIzU",
        "outputId": "833ac56a-019f-47a0-8217-65afa2d1dd14"
      }
    },
    {
      "cell_type": "code",
      "execution_count": 9,
      "source": [
        "vocab_size = 69701\r\n",
        "embedding_dim = 16\r\n",
        "max_length = 180\r\n",
        "padding_type='post'\r\n",
        "trunc_type='post'\r\n",
        "OOV_token = \"<OOV>\""
      ],
      "outputs": [],
      "metadata": {
        "id": "ddWGkvdsFIzU"
      }
    },
    {
      "cell_type": "code",
      "execution_count": 10,
      "source": [
        "from tensorflow.keras.preprocessing.text import Tokenizer\r\n",
        "from tensorflow.keras.preprocessing.sequence import pad_sequences\r\n",
        "\r\n",
        "tokenizer = Tokenizer(num_words = vocab_size, oov_token=OOV_token)\r\n",
        "tokenizer.fit_on_texts(train_tweets)\r\n",
        "\r\n",
        "word_index = tokenizer.word_index\r\n",
        "\r\n",
        "train_sequences = tokenizer.texts_to_sequences(train_tweets)\r\n",
        "train_padded = pad_sequences(train_sequences, maxlen=max_length, padding=padding_type, truncating=trunc_type)\r\n",
        "\r\n",
        "testing_sequences = tokenizer.texts_to_sequences(test_tweets)\r\n",
        "testing_padded = pad_sequences(testing_sequences, maxlen=max_length, padding=padding_type, truncating=trunc_type)"
      ],
      "outputs": [],
      "metadata": {
        "id": "y3U2oa7kFIzU"
      }
    },
    {
      "cell_type": "code",
      "execution_count": 11,
      "source": [
        "reverse_word_index = dict([(value, key) for (key, value) in word_index.items()])\r\n",
        "\r\n",
        "def decode_review(text):\r\n",
        "    return ' '.join([reverse_word_index.get(i, '?') for i in text])\r\n",
        "\r\n",
        "print(decode_review(train_padded[0]))\r\n",
        "print(train_tweets[0])"
      ],
      "outputs": [
        {
          "output_type": "stream",
          "name": "stdout",
          "text": [
            "today senate dems vote savetheinternet proud support similar netneutrality legislation house… https t co n3tggdlu1l ? ? ? ? ? ? ? ? ? ? ? ? ? ? ? ? ? ? ? ? ? ? ? ? ? ? ? ? ? ? ? ? ? ? ? ? ? ? ? ? ? ? ? ? ? ? ? ? ? ? ? ? ? ? ? ? ? ? ? ? ? ? ? ? ? ? ? ? ? ? ? ? ? ? ? ? ? ? ? ? ? ? ? ? ? ? ? ? ? ? ? ? ? ? ? ? ? ? ? ? ? ? ? ? ? ? ? ? ? ? ? ? ? ? ? ? ? ? ? ? ? ? ? ? ? ? ? ? ? ? ? ? ? ? ? ? ? ? ? ? ? ? ? ? ? ? ? ? ? ? ? ? ? ? ? ? ? ? ? ? ? ? ? ? ?\n",
            "Today, Senate Dems vote #SaveTheInternet. Proud support similar #NetNeutrality legislation House… https://t.co/n3tggDLU1L \n"
          ]
        }
      ],
      "metadata": {
        "colab": {
          "base_uri": "https://localhost:8080/"
        },
        "id": "2vU1iOWnFIzV",
        "outputId": "641b9de2-ff76-4b57-d0ec-4ec955a1b121"
      }
    },
    {
      "cell_type": "code",
      "execution_count": 12,
      "source": [
        "import tensorflow as tf\r\n",
        "model = tf.keras.Sequential([\r\n",
        "    tf.keras.layers.Embedding(vocab_size, embedding_dim, input_length=max_length),\r\n",
        "    tf.keras.layers.Flatten(),\r\n",
        "    tf.keras.layers.Dense(6, activation='relu'),\r\n",
        "    tf.keras.layers.Dense(1, activation='sigmoid')\r\n",
        "])\r\n",
        "model.compile(loss='binary_crossentropy', optimizer='adam', metrics=['accuracy'])\r\n",
        "model.summary()"
      ],
      "outputs": [
        {
          "output_type": "stream",
          "name": "stdout",
          "text": [
            "Model: \"sequential\"\n",
            "_________________________________________________________________\n",
            "Layer (type)                 Output Shape              Param #   \n",
            "=================================================================\n",
            "embedding (Embedding)        (None, 180, 16)           1115216   \n",
            "_________________________________________________________________\n",
            "flatten (Flatten)            (None, 2880)              0         \n",
            "_________________________________________________________________\n",
            "dense (Dense)                (None, 6)                 17286     \n",
            "_________________________________________________________________\n",
            "dense_1 (Dense)              (None, 1)                 7         \n",
            "=================================================================\n",
            "Total params: 1,132,509\n",
            "Trainable params: 1,132,509\n",
            "Non-trainable params: 0\n",
            "_________________________________________________________________\n"
          ]
        }
      ],
      "metadata": {
        "colab": {
          "base_uri": "https://localhost:8080/"
        },
        "id": "hGM9M0wuFIzV",
        "outputId": "b6788ea8-177c-4db3-bd34-bf1586694062"
      }
    },
    {
      "cell_type": "code",
      "execution_count": 13,
      "source": [
        "num_epochs = 20\r\n",
        "model.fit(train_padded, train_labels, epochs=num_epochs, \r\n",
        "          validation_data=(testing_padded, test_labels))"
      ],
      "outputs": [
        {
          "output_type": "stream",
          "name": "stdout",
          "text": [
            "Epoch 1/20\n",
            "2160/2160 [==============================] - 30s 14ms/step - loss: 0.2567 - accuracy: 0.9001 - val_loss: 0.3009 - val_accuracy: 0.9465\n",
            "Epoch 2/20\n",
            "2160/2160 [==============================] - 30s 14ms/step - loss: 0.0966 - accuracy: 0.9712 - val_loss: 0.3560 - val_accuracy: 0.9502\n",
            "Epoch 3/20\n",
            "2160/2160 [==============================] - 38s 17ms/step - loss: 0.0505 - accuracy: 0.9845 - val_loss: 0.4423 - val_accuracy: 0.9505\n",
            "Epoch 4/20\n",
            "2160/2160 [==============================] - 40s 19ms/step - loss: 0.0247 - accuracy: 0.9928 - val_loss: 0.5322 - val_accuracy: 0.9528\n",
            "Epoch 5/20\n",
            "2160/2160 [==============================] - 36s 17ms/step - loss: 0.0128 - accuracy: 0.9968 - val_loss: 0.6026 - val_accuracy: 0.9532\n",
            "Epoch 6/20\n",
            "2160/2160 [==============================] - 31s 14ms/step - loss: 0.0070 - accuracy: 0.9985 - val_loss: 0.6323 - val_accuracy: 0.9534\n",
            "Epoch 7/20\n",
            "2160/2160 [==============================] - 32s 15ms/step - loss: 0.0055 - accuracy: 0.9988 - val_loss: 0.7042 - val_accuracy: 0.9535\n",
            "Epoch 8/20\n",
            "2160/2160 [==============================] - 37s 17ms/step - loss: 0.0049 - accuracy: 0.9989 - val_loss: 0.7130 - val_accuracy: 0.9534\n",
            "Epoch 9/20\n",
            "2160/2160 [==============================] - 36s 16ms/step - loss: 0.0039 - accuracy: 0.9990 - val_loss: 0.6938 - val_accuracy: 0.9534\n",
            "Epoch 10/20\n",
            "2160/2160 [==============================] - 37s 17ms/step - loss: 0.0033 - accuracy: 0.9990 - val_loss: 0.7065 - val_accuracy: 0.9537\n",
            "Epoch 11/20\n",
            "2160/2160 [==============================] - 37s 17ms/step - loss: 0.0028 - accuracy: 0.9990 - val_loss: 0.7379 - val_accuracy: 0.9537\n",
            "Epoch 12/20\n",
            "2160/2160 [==============================] - 37s 17ms/step - loss: 0.0020 - accuracy: 0.9992 - val_loss: 0.8346 - val_accuracy: 0.9537\n",
            "Epoch 13/20\n",
            "2160/2160 [==============================] - 32s 15ms/step - loss: 0.0020 - accuracy: 0.9992 - val_loss: 0.7709 - val_accuracy: 0.9537\n",
            "Epoch 14/20\n",
            "2160/2160 [==============================] - 32s 15ms/step - loss: 0.0021 - accuracy: 0.9992 - val_loss: 0.8451 - val_accuracy: 0.9536\n",
            "Epoch 15/20\n",
            "2160/2160 [==============================] - 36s 17ms/step - loss: 0.0017 - accuracy: 0.9991 - val_loss: 0.8682 - val_accuracy: 0.9536\n",
            "Epoch 16/20\n",
            "2160/2160 [==============================] - 36s 17ms/step - loss: 0.0016 - accuracy: 0.9992 - val_loss: 0.9037 - val_accuracy: 0.9526\n",
            "Epoch 17/20\n",
            "2160/2160 [==============================] - 36s 17ms/step - loss: 0.0018 - accuracy: 0.9992 - val_loss: 0.9387 - val_accuracy: 0.9538\n",
            "Epoch 18/20\n",
            "2160/2160 [==============================] - 34s 16ms/step - loss: 0.0017 - accuracy: 0.9993 - val_loss: 1.0867 - val_accuracy: 0.9538\n",
            "Epoch 19/20\n",
            "2160/2160 [==============================] - 33s 15ms/step - loss: 0.0014 - accuracy: 0.9992 - val_loss: 1.0359 - val_accuracy: 0.9538\n",
            "Epoch 20/20\n",
            "2160/2160 [==============================] - 35s 16ms/step - loss: 0.0015 - accuracy: 0.9992 - val_loss: 1.0470 - val_accuracy: 0.9526\n"
          ]
        },
        {
          "output_type": "execute_result",
          "data": {
            "text/plain": [
              "<tensorflow.python.keras.callbacks.History at 0x24386681a30>"
            ]
          },
          "metadata": {},
          "execution_count": 13
        }
      ],
      "metadata": {
        "colab": {
          "base_uri": "https://localhost:8080/"
        },
        "id": "Qw221_uOFIzV",
        "outputId": "8f224edc-eea4-4b2f-e988-26a05e3760a1"
      }
    },
    {
      "cell_type": "code",
      "execution_count": 14,
      "source": [
        "e = model.layers[0]\r\n",
        "weights = e.get_weights()[0]\r\n",
        "print(weights.shape)"
      ],
      "outputs": [
        {
          "output_type": "stream",
          "name": "stdout",
          "text": [
            "(69701, 16)\n"
          ]
        }
      ],
      "metadata": {
        "id": "_cEcfLI_FIzW",
        "colab": {
          "base_uri": "https://localhost:8080/"
        },
        "outputId": "07761782-0238-46bb-ff57-fec4e6bf1789"
      }
    },
    {
      "cell_type": "code",
      "execution_count": 15,
      "source": [
        "sentence = [\"We are going to protect the vaccinated workers from unvaccinated coworkers.\", \r\n",
        "            \"With my Build Back Better Agenda, we’re going to ensure big corporations and the top one percent pay their fair share.\", \r\n",
        "            \"Joe Biden’s COVID vaccine mandate completely ignores the science and is an attack on Americans’ right to privacy. \", \r\n",
        "            \"Biden admin knows it’s likely illegal (like the eviction moratorium) but they don’t care.\"]\r\n",
        "sequence = tokenizer.texts_to_sequences(sentence)\r\n",
        "print(sequence)"
      ],
      "outputs": [
        {
          "output_type": "stream",
          "name": "stdout",
          "text": [
            "[[13, 923, 377, 176, 126, 8, 14871, 261, 456, 1, 11397], [296, 42, 996, 128, 231, 1523, 541, 377, 176, 281, 268, 1001, 223, 8, 475, 41, 1655, 208, 1567, 435, 555], [2200, 1, 1, 18986, 2886, 2500, 6062, 8, 682, 223, 856, 798, 472, 86, 2436, 127, 176, 1804], [6312, 1203, 2331, 93, 1950, 1213, 96, 8, 1, 14137, 494, 359, 452, 123]]\n"
          ]
        }
      ],
      "metadata": {
        "colab": {
          "base_uri": "https://localhost:8080/"
        },
        "id": "gk0WBvOYZ68W",
        "outputId": "6f1630e8-adca-4f9a-ee17-c0486fbc1a8f"
      }
    },
    {
      "cell_type": "code",
      "execution_count": 16,
      "source": [
        "sequences = tokenizer.texts_to_sequences(sentence)\r\n",
        "padded = pad_sequences(sequences, maxlen=max_length, padding=padding_type, truncating=trunc_type)\r\n",
        "print(model.predict(padded))"
      ],
      "outputs": [
        {
          "output_type": "stream",
          "name": "stdout",
          "text": [
            "[[9.9541950e-01]\n",
            " [2.7030924e-07]\n",
            " [9.9385715e-01]\n",
            " [8.9807284e-01]]\n"
          ]
        }
      ],
      "metadata": {
        "colab": {
          "base_uri": "https://localhost:8080/"
        },
        "id": "_mg-SF-QaKcA",
        "outputId": "04b6f61f-5596-44c9-c517-fad2794e5414"
      }
    },
    {
      "cell_type": "code",
      "execution_count": null,
      "source": [],
      "outputs": [],
      "metadata": {
        "id": "_NhuA-fhanxa"
      }
    }
  ]
}