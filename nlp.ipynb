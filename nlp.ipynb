{
  "nbformat": 4,
  "nbformat_minor": 0,
  "metadata": {
    "orig_nbformat": 4,
    "language_info": {
      "name": "python",
      "version": "3.8.8",
      "mimetype": "text/x-python",
      "codemirror_mode": {
        "name": "ipython",
        "version": 3
      },
      "pygments_lexer": "ipython3",
      "nbconvert_exporter": "python",
      "file_extension": ".py"
    },
    "kernelspec": {
      "name": "python3",
      "display_name": "Python 3.8.8 64-bit"
    },
    "interpreter": {
      "hash": "c72a629dba5ae9edebcad565c17c3988d814021371aabb3db62cb04d2b10dbfe"
    },
    "colab": {
      "name": "nlp.ipynb",
      "provenance": []
    }
  },
  "cells": [
    {
      "cell_type": "code",
      "metadata": {
        "colab": {
          "base_uri": "https://localhost:8080/"
        },
        "id": "2mjBoJAJFIzP",
        "outputId": "cf418c1f-86f6-4eaf-9cae-c675872f9da5"
      },
      "source": [
        "!gdown --id 10Yv6xUd1ufDilPcLdhR8L-zQZX5yNwSZ"
      ],
      "execution_count": 1,
      "outputs": [
        {
          "output_type": "stream",
          "name": "stdout",
          "text": [
            "Downloading...\n",
            "From: https://drive.google.com/uc?id=10Yv6xUd1ufDilPcLdhR8L-zQZX5yNwSZ\n",
            "To: /content/dem-vs-rep.zip\n",
            "\r0.00B [00:00, ?B/s]\r9.29MB [00:00, 146MB/s]\n"
          ]
        }
      ]
    },
    {
      "cell_type": "code",
      "metadata": {
        "id": "FGFgDGWhFIzQ"
      },
      "source": [
        "import os\n",
        "import zipfile\n",
        "\n",
        "local_zip = './dem-vs-rep.zip'\n",
        "zip_ref = zipfile.ZipFile(local_zip, 'r')\n",
        "zip_ref.extractall()\n",
        "zip_ref.close()"
      ],
      "execution_count": 2,
      "outputs": []
    },
    {
      "cell_type": "code",
      "metadata": {
        "id": "x27rSbjIFIzS"
      },
      "source": [
        "train_tweets = os.path.join('./dem-vs-rep/train.csv')\n",
        "test_tweets = os.path.join('./dem-vs-rep/test.csv')"
      ],
      "execution_count": 3,
      "outputs": []
    },
    {
      "cell_type": "code",
      "metadata": {
        "colab": {
          "base_uri": "https://localhost:8080/"
        },
        "id": "nDgxi79_FIzT",
        "outputId": "552d1c72-2685-4422-f780-30c81ba3f425"
      },
      "source": [
        "import pandas\n",
        "train_df = pandas.read_csv(train_tweets)\n",
        "test_df = pandas.read_csv(test_tweets)\n",
        "print(train_df[:1])\n",
        "print(test_df[:1])"
      ],
      "execution_count": 4,
      "outputs": [
        {
          "output_type": "stream",
          "name": "stdout",
          "text": [
            "      Party         Handle                                              Tweet\n",
            "0  Democrat  RepDarrenSoto  Today, Senate Dems vote to #SaveTheInternet. P...\n",
            "      Party        Handle                                              Tweet\n",
            "0  Democrat  RepAdamSmith  Today the House passed an omnibus spending bil...\n"
          ]
        }
      ]
    },
    {
      "cell_type": "code",
      "metadata": {
        "id": "EcBmjqHzdRpg"
      },
      "source": [
        "import string\n",
        "\n",
        "stopwords = [\"a\", \"about\", \"above\", \"after\", \"again\", \"against\", \"all\", \"am\", \"an\", \"and\", \"any\", \"are\", \"as\", \"at\",\n",
        "             \"be\", \"because\", \"been\", \"before\", \"being\", \"below\", \"between\", \"both\", \"but\", \"by\", \"could\", \"did\", \"do\",\n",
        "             \"does\", \"doing\", \"down\", \"during\", \"each\", \"few\", \"for\", \"from\", \"further\", \"had\", \"has\", \"have\", \"having\",\n",
        "             \"he\", \"hed\", \"hes\", \"her\", \"here\", \"heres\", \"hers\", \"herself\", \"him\", \"himself\", \"his\", \"how\",\n",
        "             \"hows\", \"i\", \"id\", \"ill\", \"im\", \"ive\", \"if\", \"in\", \"into\", \"is\", \"it\", \"its\", \"itself\",\n",
        "             \"lets\", \"me\", \"more\", \"most\", \"my\", \"myself\", \"nor\", \"of\", \"on\", \"once\", \"only\", \"or\", \"other\", \"ought\",\n",
        "             \"our\", \"ours\", \"ourselves\", \"out\", \"over\", \"own\", \"same\", \"she\", \"shed\", \"shell\", \"shes\", \"should\",\n",
        "             \"so\", \"some\", \"such\", \"than\", \"that\", \"thats\", \"the\", \"their\", \"theirs\", \"them\", \"themselves\", \"then\",\n",
        "             \"there\", \"theres\", \"these\", \"they\", \"theyd\", \"theyll\", \"theyre\", \"theyve\", \"this\", \"those\", \"through\",\n",
        "             \"to\", \"too\", \"under\", \"until\", \"up\", \"very\", \"was\", \"we\", \"wed\", \"well\", \"were\", \"weve\", \"were\",\n",
        "             \"what\", \"whats\", \"when\", \"whens\", \"where\", \"wheres\", \"which\", \"while\", \"who\", \"whos\", \"whom\", \"why\",\n",
        "             \"whys\", \"with\", \"would\", \"you\", \"youd\", \"youll\", \"youre\", \"youve\", \"your\", \"yours\", \"yourself\",\n",
        "             \"yourselves\"]\n",
        "\n",
        "table = str.maketrans('', '', string.punctuation)"
      ],
      "execution_count": 5,
      "outputs": []
    },
    {
      "cell_type": "code",
      "metadata": {
        "id": "ys0Evl0tFIzT"
      },
      "source": [
        "import numpy as np\n",
        "\n",
        "train_tweets = []\n",
        "train_labels = []\n",
        "\n",
        "for i in range(len(train_df.index)):\n",
        "  pre_tweet = train_df.iloc[i]['Tweet']\n",
        "  post_tweet = \"\"\n",
        "  for word in pre_tweet.split():\n",
        "    if word not in stopwords:\n",
        "      post_tweet += word + \" \"\n",
        "  train_tweets.append(post_tweet)\n",
        "  party = (train_df.iloc[i]['Party'])\n",
        "  if party == 'Democrat':\n",
        "    train_labels.append(0)\n",
        "  else:\n",
        "    train_labels.append(1)\n",
        "\n",
        "test_tweets = []\n",
        "test_labels = []\n",
        "\n",
        "for i in range(len(test_df.index)):\n",
        "  pre_tweet = train_df.iloc[i]['Tweet']\n",
        "  post_tweet = \"\"\n",
        "  for word in pre_tweet.split():\n",
        "    if word not in stopwords:\n",
        "      post_tweet += word + \" \"\n",
        "  test_tweets.append(post_tweet)\n",
        "  party = (test_df.iloc[i]['Party'])\n",
        "  if party == 'Democrat':\n",
        "    test_labels.append(0)\n",
        "  else:\n",
        "    test_labels.append(1)\n",
        "\n",
        "train_labels = np.array(train_labels)\n",
        "test_labels = np.array(test_labels)"
      ],
      "execution_count": 9,
      "outputs": []
    },
    {
      "cell_type": "code",
      "metadata": {
        "colab": {
          "base_uri": "https://localhost:8080/"
        },
        "id": "hAa3vfScFIzU",
        "outputId": "ab471663-0d68-4e6c-d714-53449cec2837"
      },
      "source": [
        "print(len(train_tweets))"
      ],
      "execution_count": 10,
      "outputs": [
        {
          "output_type": "stream",
          "name": "stdout",
          "text": [
            "69107\n"
          ]
        }
      ]
    },
    {
      "cell_type": "code",
      "metadata": {
        "colab": {
          "base_uri": "https://localhost:8080/"
        },
        "id": "wKgnXe0ZFIzU",
        "outputId": "833ac56a-019f-47a0-8217-65afa2d1dd14"
      },
      "source": [
        "print(train_tweets[:2])\n",
        "print(train_labels[:2])\n",
        "\n",
        "print(test_tweets[:2])\n",
        "print(test_labels[:2])"
      ],
      "execution_count": 11,
      "outputs": [
        {
          "output_type": "stream",
          "name": "stdout",
          "text": [
            "['Today, Senate Dems vote #SaveTheInternet. Proud support similar #NetNeutrality legislation House… https://t.co/n3tggDLU1L ', 'RT @WinterHavenSun: Winter Haven resident / Alta Vista teacher one several recognized @RepDarrenSoto National Teacher Apprecia… ']\n",
            "[0 0]\n",
            "['Today, Senate Dems vote #SaveTheInternet. Proud support similar #NetNeutrality legislation House… https://t.co/n3tggDLU1L ', 'RT @WinterHavenSun: Winter Haven resident / Alta Vista teacher one several recognized @RepDarrenSoto National Teacher Apprecia… ']\n",
            "[0 0]\n"
          ]
        }
      ]
    },
    {
      "cell_type": "code",
      "metadata": {
        "id": "ddWGkvdsFIzU"
      },
      "source": [
        "vocab_size = 69701\n",
        "embedding_dim = 16\n",
        "max_length = \n",
        "padding_type='post'\n",
        "trunc_type='post'\n",
        "OOV_token = \"<OOV>\""
      ],
      "execution_count": 19,
      "outputs": []
    },
    {
      "cell_type": "code",
      "metadata": {
        "id": "y3U2oa7kFIzU"
      },
      "source": [
        "from tensorflow.keras.preprocessing.text import Tokenizer\n",
        "from tensorflow.keras.preprocessing.sequence import pad_sequences\n",
        "\n",
        "tokenizer = Tokenizer(num_words = vocab_size, oov_token=OOV_token)\n",
        "tokenizer.fit_on_texts(train_tweets)\n",
        "\n",
        "word_index = tokenizer.word_index\n",
        "\n",
        "train_sequences = tokenizer.texts_to_sequences(train_tweets)\n",
        "train_padded = pad_sequences(train_sequences, maxlen=max_length, padding=padding_type, truncating=trunc_type)\n",
        "\n",
        "testing_sequences = tokenizer.texts_to_sequences(test_tweets)\n",
        "testing_padded = pad_sequences(testing_sequences, maxlen=max_length, padding=padding_type, truncating=trunc_type)"
      ],
      "execution_count": 21,
      "outputs": []
    },
    {
      "cell_type": "code",
      "metadata": {
        "colab": {
          "base_uri": "https://localhost:8080/"
        },
        "id": "2vU1iOWnFIzV",
        "outputId": "641b9de2-ff76-4b57-d0ec-4ec955a1b121"
      },
      "source": [
        "reverse_word_index = dict([(value, key) for (key, value) in word_index.items()])\n",
        "\n",
        "def decode_review(text):\n",
        "    return ' '.join([reverse_word_index.get(i, '?') for i in text])\n",
        "\n",
        "print(decode_review(train_padded[0]))\n",
        "print(train_tweets[0])"
      ],
      "execution_count": 22,
      "outputs": [
        {
          "output_type": "stream",
          "name": "stdout",
          "text": [
            "today senate dems vote savetheinternet proud support similar netneutrality legislation house… https t co n3tggdlu1l ? ? ? ? ? ? ? ? ? ? ? ? ? ? ? ? ? ? ? ? ? ? ? ? ? ? ? ? ? ? ? ? ? ? ? ? ? ? ? ? ? ? ? ? ? ? ? ? ? ? ? ? ? ? ? ? ? ? ? ? ? ? ? ? ? ? ? ? ? ? ? ? ? ? ? ? ? ? ? ? ? ? ? ? ? ? ? ? ? ? ? ? ? ? ? ? ? ? ? ? ? ? ? ? ?\n",
            "Today, Senate Dems vote #SaveTheInternet. Proud support similar #NetNeutrality legislation House… https://t.co/n3tggDLU1L \n"
          ]
        }
      ]
    },
    {
      "cell_type": "code",
      "metadata": {
        "colab": {
          "base_uri": "https://localhost:8080/"
        },
        "id": "hGM9M0wuFIzV",
        "outputId": "b6788ea8-177c-4db3-bd34-bf1586694062"
      },
      "source": [
        "import tensorflow as tf\n",
        "model = tf.keras.Sequential([\n",
        "    tf.keras.layers.Embedding(vocab_size, embedding_dim, input_length=max_length),\n",
        "    tf.keras.layers.Flatten(),\n",
        "    tf.keras.layers.Dense(6, activation='relu'),\n",
        "    tf.keras.layers.Dense(1, activation='sigmoid')\n",
        "])\n",
        "model.compile(loss='binary_crossentropy', optimizer='adam', metrics=['accuracy'])\n",
        "model.summary()"
      ],
      "execution_count": 23,
      "outputs": [
        {
          "output_type": "stream",
          "name": "stdout",
          "text": [
            "Model: \"sequential_2\"\n",
            "_________________________________________________________________\n",
            "Layer (type)                 Output Shape              Param #   \n",
            "=================================================================\n",
            "embedding_2 (Embedding)      (None, 120, 16)           1115216   \n",
            "_________________________________________________________________\n",
            "flatten_2 (Flatten)          (None, 1920)              0         \n",
            "_________________________________________________________________\n",
            "dense_4 (Dense)              (None, 6)                 11526     \n",
            "_________________________________________________________________\n",
            "dense_5 (Dense)              (None, 1)                 7         \n",
            "=================================================================\n",
            "Total params: 1,126,749\n",
            "Trainable params: 1,126,749\n",
            "Non-trainable params: 0\n",
            "_________________________________________________________________\n"
          ]
        }
      ]
    },
    {
      "cell_type": "code",
      "metadata": {
        "colab": {
          "base_uri": "https://localhost:8080/"
        },
        "id": "Qw221_uOFIzV",
        "outputId": "8f224edc-eea4-4b2f-e988-26a05e3760a1"
      },
      "source": [
        "num_epochs = 20\n",
        "model.fit(train_padded, train_labels, epochs=num_epochs, \n",
        "          validation_data=(testing_padded, test_labels))"
      ],
      "execution_count": 24,
      "outputs": [
        {
          "output_type": "stream",
          "name": "stdout",
          "text": [
            "Epoch 1/20\n",
            "2160/2160 [==============================] - 31s 14ms/step - loss: 0.2384 - accuracy: 0.9036 - val_loss: 0.3190 - val_accuracy: 0.9458\n",
            "Epoch 2/20\n",
            "2160/2160 [==============================] - 32s 15ms/step - loss: 0.0940 - accuracy: 0.9720 - val_loss: 0.4104 - val_accuracy: 0.9499\n",
            "Epoch 3/20\n",
            "2160/2160 [==============================] - 31s 15ms/step - loss: 0.0494 - accuracy: 0.9844 - val_loss: 0.5230 - val_accuracy: 0.9512\n",
            "Epoch 4/20\n",
            "2160/2160 [==============================] - 32s 15ms/step - loss: 0.0257 - accuracy: 0.9929 - val_loss: 0.6899 - val_accuracy: 0.9527\n",
            "Epoch 5/20\n",
            "2160/2160 [==============================] - 32s 15ms/step - loss: 0.0146 - accuracy: 0.9961 - val_loss: 0.6611 - val_accuracy: 0.9532\n",
            "Epoch 6/20\n",
            "2160/2160 [==============================] - 32s 15ms/step - loss: 0.0090 - accuracy: 0.9981 - val_loss: 0.7897 - val_accuracy: 0.9535\n",
            "Epoch 7/20\n",
            "2160/2160 [==============================] - 31s 14ms/step - loss: 0.0062 - accuracy: 0.9988 - val_loss: 0.8779 - val_accuracy: 0.9537\n",
            "Epoch 8/20\n",
            "2160/2160 [==============================] - 31s 14ms/step - loss: 0.0051 - accuracy: 0.9989 - val_loss: 0.8415 - val_accuracy: 0.9534\n",
            "Epoch 9/20\n",
            "2160/2160 [==============================] - 32s 15ms/step - loss: 0.0044 - accuracy: 0.9989 - val_loss: 0.8805 - val_accuracy: 0.9535\n",
            "Epoch 10/20\n",
            "2160/2160 [==============================] - 32s 15ms/step - loss: 0.0036 - accuracy: 0.9990 - val_loss: 0.9075 - val_accuracy: 0.9536\n",
            "Epoch 11/20\n",
            "2160/2160 [==============================] - 31s 14ms/step - loss: 0.0031 - accuracy: 0.9991 - val_loss: 0.9807 - val_accuracy: 0.9536\n",
            "Epoch 12/20\n",
            "2160/2160 [==============================] - 32s 15ms/step - loss: 0.0030 - accuracy: 0.9991 - val_loss: 1.0294 - val_accuracy: 0.9537\n",
            "Epoch 13/20\n",
            "2160/2160 [==============================] - 31s 14ms/step - loss: 0.0028 - accuracy: 0.9991 - val_loss: 1.0421 - val_accuracy: 0.9537\n",
            "Epoch 14/20\n",
            "2160/2160 [==============================] - 31s 15ms/step - loss: 0.0029 - accuracy: 0.9991 - val_loss: 1.0541 - val_accuracy: 0.9537\n",
            "Epoch 15/20\n",
            "2160/2160 [==============================] - 32s 15ms/step - loss: 0.0023 - accuracy: 0.9991 - val_loss: 1.0962 - val_accuracy: 0.9537\n",
            "Epoch 16/20\n",
            "2160/2160 [==============================] - 31s 14ms/step - loss: 0.0024 - accuracy: 0.9991 - val_loss: 1.0853 - val_accuracy: 0.9537\n",
            "Epoch 17/20\n",
            "2160/2160 [==============================] - 31s 14ms/step - loss: 0.0024 - accuracy: 0.9991 - val_loss: 1.1750 - val_accuracy: 0.9536\n",
            "Epoch 18/20\n",
            "2160/2160 [==============================] - 31s 15ms/step - loss: 0.0024 - accuracy: 0.9991 - val_loss: 1.0990 - val_accuracy: 0.9537\n",
            "Epoch 19/20\n",
            "2160/2160 [==============================] - 32s 15ms/step - loss: 0.0020 - accuracy: 0.9992 - val_loss: 1.1479 - val_accuracy: 0.9536\n",
            "Epoch 20/20\n",
            "2160/2160 [==============================] - 31s 14ms/step - loss: 0.0021 - accuracy: 0.9992 - val_loss: 1.1222 - val_accuracy: 0.9538\n"
          ]
        },
        {
          "output_type": "execute_result",
          "data": {
            "text/plain": [
              "<keras.callbacks.History at 0x7ff6631fa050>"
            ]
          },
          "metadata": {},
          "execution_count": 24
        }
      ]
    },
    {
      "cell_type": "code",
      "metadata": {
        "id": "_cEcfLI_FIzW",
        "colab": {
          "base_uri": "https://localhost:8080/"
        },
        "outputId": "07761782-0238-46bb-ff57-fec4e6bf1789"
      },
      "source": [
        "e = model.layers[0]\n",
        "weights = e.get_weights()[0]\n",
        "print(weights.shape)"
      ],
      "execution_count": 59,
      "outputs": [
        {
          "output_type": "stream",
          "name": "stdout",
          "text": [
            "(69701, 16)\n"
          ]
        }
      ]
    },
    {
      "cell_type": "code",
      "metadata": {
        "colab": {
          "base_uri": "https://localhost:8080/"
        },
        "id": "gk0WBvOYZ68W",
        "outputId": "6f1630e8-adca-4f9a-ee17-c0486fbc1a8f"
      },
      "source": [
        "sentence = [\"Freddy Starr ate my hamster\"]\n",
        "sequence = tokenizer.texts_to_sequences(sentence)\n",
        "print(sequence)"
      ],
      "execution_count": 67,
      "outputs": [
        {
          "output_type": "stream",
          "name": "stdout",
          "text": [
            "[[1, 1, 1, 42, 1]]\n"
          ]
        }
      ]
    },
    {
      "cell_type": "code",
      "metadata": {
        "colab": {
          "base_uri": "https://localhost:8080/"
        },
        "id": "_mg-SF-QaKcA",
        "outputId": "04b6f61f-5596-44c9-c517-fad2794e5414"
      },
      "source": [
        "sequences = tokenizer.texts_to_sequences(sentence)\n",
        "padded = pad_sequences(sequences, maxlen=max_length, padding=padding_type, truncating=trunc_type)\n",
        "print(model.predict(padded))"
      ],
      "execution_count": 68,
      "outputs": [
        {
          "output_type": "stream",
          "name": "stdout",
          "text": [
            "[[0.9840058]]\n"
          ]
        }
      ]
    },
    {
      "cell_type": "code",
      "metadata": {
        "id": "_NhuA-fhanxa"
      },
      "source": [
        ""
      ],
      "execution_count": null,
      "outputs": []
    }
  ]
}