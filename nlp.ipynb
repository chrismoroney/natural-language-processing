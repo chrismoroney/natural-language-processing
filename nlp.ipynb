{
 "cells": [
  {
   "cell_type": "code",
   "execution_count": 1,
   "source": [
    "!gdown --id 10Yv6xUd1ufDilPcLdhR8L-zQZX5yNwSZ"
   ],
   "outputs": [
    {
     "output_type": "stream",
     "name": "stderr",
     "text": [
      "Downloading...\n",
      "From: https://drive.google.com/uc?id=10Yv6xUd1ufDilPcLdhR8L-zQZX5yNwSZ\n",
      "To: d:\\Github\\natural-language-processing\\dem-vs-rep.zip\n",
      "\n",
      "0.00B [00:00, ?B/s]\n",
      "524kB [00:00, 1.78MB/s]\n",
      "1.57MB [00:00, 4.11MB/s]\n",
      "2.62MB [00:00, 5.09MB/s]\n",
      "4.19MB [00:00, 7.34MB/s]\n",
      "5.24MB [00:00, 7.78MB/s]\n",
      "6.29MB [00:00, 8.48MB/s]\n",
      "7.34MB [00:01, 8.16MB/s]\n",
      "8.39MB [00:01, 8.68MB/s]\n",
      "9.29MB [00:01, 7.30MB/s]\n"
     ]
    }
   ],
   "metadata": {}
  },
  {
   "cell_type": "code",
   "execution_count": 2,
   "source": [
    "import os\r\n",
    "import zipfile\r\n",
    "\r\n",
    "local_zip = './dem-vs-rep.zip'\r\n",
    "zip_ref = zipfile.ZipFile(local_zip, 'r')\r\n",
    "zip_ref.extractall()\r\n",
    "zip_ref.close()"
   ],
   "outputs": [],
   "metadata": {}
  },
  {
   "cell_type": "code",
   "execution_count": 4,
   "source": [
    "train_tweets = os.path.join('./dem-vs-rep/train.csv')\r\n",
    "test_tweets = os.path.join('./dem-vs-rep/test.csv')"
   ],
   "outputs": [],
   "metadata": {}
  },
  {
   "cell_type": "code",
   "execution_count": 77,
   "source": [
    "import pandas\r\n",
    "df = pandas.read_csv(train_tweets)\r\n",
    "print(df[:1])"
   ],
   "outputs": [
    {
     "output_type": "stream",
     "name": "stdout",
     "text": [
      "      Party         Handle                                              Tweet\n",
      "0  Democrat  RepDarrenSoto  Today, Senate Dems vote to #SaveTheInternet. P...\n"
     ]
    }
   ],
   "metadata": {}
  },
  {
   "cell_type": "code",
   "execution_count": 87,
   "source": [
    "sentences = []\r\n",
    "labels = []\r\n",
    "\r\n",
    "for i in range(len(df.index)):\r\n",
    "  sentences.append(df.iloc[i]['Tweet'])\r\n",
    "  labels.append(df.iloc[i]['Party'])"
   ],
   "outputs": [
    {
     "output_type": "stream",
     "name": "stdout",
     "text": [
      "['Today, Senate Dems vote to #SaveTheInternet. Proud to support similar #NetNeutrality legislation here in the House… https://t.co/n3tggDLU1L', 'RT @WinterHavenSun: Winter Haven resident / Alta Vista teacher is one of several recognized by @RepDarrenSoto for National Teacher Apprecia…', 'RT @NBCLatino: .@RepDarrenSoto noted that Hurricane Maria has left approximately $90 billion in damages. \\n\\nCongress has allocated about $18…', 'RT @NALCABPolicy: Meeting with @RepDarrenSoto . Thanks for taking the time to meet with @LatinoLeader ED Marucci Guzman. #NALCABPolicy2018.…', 'RT @Vegalteno: Hurricane season starts on June 1st; Puerto Rico’s readiness...well 🤦🏼\\u200d♂️😡😩@Pwr4PuertoRico @RepDarrenSoto @EspaillatNY', 'RT @EmgageActionFL: Thank you to all who came out to our Orlando gala! It was a successful night that would not have been possible without…', 'Hurricane Maria left approx $90 billion in damages, yet only $1 billion was allocated for rebuilding grid. No surpr… https://t.co/2kU8BcKwUh', 'RT @Tharryry: I am delighted that @RepDarrenSoto will be voting for the CRA to overrule the FCC and save our #NetNeutrality rules. Find out…', \"RT @HispanicCaucus: Trump's anti-immigrant policies are hurting small businesses across the country that can’t find Americans willing to do…\", 'RT @RepStephMurphy: Great joining @WeAreUnidosUS and @RepDarrenSoto for a roundtable in #Orlando on federal issues affecting central Florid…']\n"
     ]
    }
   ],
   "metadata": {}
  },
  {
   "cell_type": "code",
   "execution_count": 94,
   "source": [
    "print(sentences[:2])\r\n",
    "print(labels[:2])"
   ],
   "outputs": [
    {
     "output_type": "stream",
     "name": "stdout",
     "text": [
      "['Today, Senate Dems vote to #SaveTheInternet. Proud to support similar #NetNeutrality legislation here in the House… https://t.co/n3tggDLU1L', 'RT @WinterHavenSun: Winter Haven resident / Alta Vista teacher is one of several recognized by @RepDarrenSoto for National Teacher Apprecia…']\n",
      "['Democrat', 'Democrat']\n"
     ]
    }
   ],
   "metadata": {}
  },
  {
   "cell_type": "code",
   "execution_count": null,
   "source": [],
   "outputs": [],
   "metadata": {}
  }
 ],
 "metadata": {
  "orig_nbformat": 4,
  "language_info": {
   "name": "python",
   "version": "3.8.8",
   "mimetype": "text/x-python",
   "codemirror_mode": {
    "name": "ipython",
    "version": 3
   },
   "pygments_lexer": "ipython3",
   "nbconvert_exporter": "python",
   "file_extension": ".py"
  },
  "kernelspec": {
   "name": "python3",
   "display_name": "Python 3.8.8 64-bit"
  },
  "interpreter": {
   "hash": "c72a629dba5ae9edebcad565c17c3988d814021371aabb3db62cb04d2b10dbfe"
  }
 },
 "nbformat": 4,
 "nbformat_minor": 2
}